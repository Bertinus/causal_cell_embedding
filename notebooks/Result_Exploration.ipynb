{
 "cells": [
  {
   "cell_type": "markdown",
   "metadata": {},
   "source": [
    "# Results"
   ]
  },
  {
   "cell_type": "code",
   "execution_count": 1,
   "metadata": {},
   "outputs": [],
   "source": [
    "experiment_name = \"l1000_env_prior_VAE\"\n",
    "exp_id = 1"
   ]
  },
  {
   "cell_type": "markdown",
   "metadata": {},
   "source": [
    "## Loading"
   ]
  },
  {
   "cell_type": "code",
   "execution_count": 2,
   "metadata": {
    "scrolled": false
   },
   "outputs": [
    {
     "name": "stdout",
     "output_type": "stream",
     "text": [
      "Working in /Users/paul/PycharmProjects/causal_cell_embedding\n"
     ]
    }
   ],
   "source": [
    "import numpy as np\n",
    "from scipy.spatial.distance import cosine\n",
    "from scipy.linalg import svd, inv\n",
    "import pandas as pd\n",
    "import matplotlib.pyplot as plt\n",
    "import dill as pickle\n",
    "import os\n",
    "import pdb\n",
    "import torch\n",
    "import ai.causalcell\n",
    "from ai.causalcell.training import set_seed\n",
    "from ai.causalcell.utils import configuration\n",
    "os.chdir(os.path.join(os.path.dirname(ai.__file__), \"..\"))\n",
    "print(\"Working in\", os.getcwd())    "
   ]
  },
  {
   "cell_type": "code",
   "execution_count": 15,
   "metadata": {},
   "outputs": [],
   "source": [
    "def load_all_losses(name='recon_loss'):\n",
    "    all_train_loss = []\n",
    "    for epoch in range(len(results['losses']['train'])):\n",
    "        train_loss = np.mean([results['losses']['train'][epoch][i][name]\n",
    "        for i in range(len(results['losses']['train'][epoch]))])\n",
    "        all_train_loss.append(train_loss)\n",
    "    all_valid_loss = []\n",
    "    for epoch in range(len(results['losses']['valid'])):\n",
    "        valid_loss = np.mean([results['losses']['valid'][epoch][i][name]\n",
    "        for i in range(len(results['losses']['valid'][epoch]))])\n",
    "        all_valid_loss.append(valid_loss)\n",
    "    return all_train_loss, all_valid_loss"
   ]
  },
  {
   "cell_type": "code",
   "execution_count": 16,
   "metadata": {},
   "outputs": [],
   "source": [
    "result_dir = os.path.join(os.getcwd(), \"results\", experiment_name)"
   ]
  },
  {
   "cell_type": "code",
   "execution_count": 17,
   "metadata": {},
   "outputs": [],
   "source": [
    "with open(os.path.join(result_dir,'results_' \n",
    "          + str(exp_id) + '.pkl'), 'rb') as f:\n",
    "    results = pickle.load(f)"
   ]
  },
  {
   "cell_type": "code",
   "execution_count": 18,
   "metadata": {},
   "outputs": [
    {
     "data": {
      "text/plain": [
       "dict_keys(['exp_name', 'config', 'data_graph', 'seed', 'exp_id', 'n_envs_in_split', 'n_samples_in_split', 'losses', 'best_epoch'])"
      ]
     },
     "execution_count": 18,
     "metadata": {},
     "output_type": "execute_result"
    }
   ],
   "source": [
    "results.keys()"
   ]
  },
  {
   "cell_type": "code",
   "execution_count": 19,
   "metadata": {},
   "outputs": [],
   "source": [
    "model_name = list(results['config']['model'].keys())[0]"
   ]
  },
  {
   "cell_type": "code",
   "execution_count": 20,
   "metadata": {
    "scrolled": false
   },
   "outputs": [],
   "source": [
    "if results['data_graph'] is not None:\n",
    "    plt.figure(figsize=(7, 5), dpi=200)\n",
    "    results['data_graph'].draw()\n",
    "    plt.show()"
   ]
  },
  {
   "cell_type": "code",
   "execution_count": 21,
   "metadata": {},
   "outputs": [],
   "source": [
    "# results['data_graph'].graph.nodes[4]"
   ]
  },
  {
   "cell_type": "code",
   "execution_count": 22,
   "metadata": {},
   "outputs": [],
   "source": [
    "# n_observations = results['data_graph'].n_observations\n",
    "# n_hidden = results['data_graph'].n_hidden"
   ]
  },
  {
   "cell_type": "markdown",
   "metadata": {},
   "source": [
    "## Experiment configuration"
   ]
  },
  {
   "cell_type": "code",
   "execution_count": 23,
   "metadata": {
    "scrolled": false
   },
   "outputs": [
    {
     "data": {
      "text/plain": [
       "{'cuda': True,\n",
       " 'seed': 1,\n",
       " 'optimizer': {'Adam': {'lr': 0.0001}},\n",
       " 'batch_size': 32,\n",
       " 'n_epochs': 1,\n",
       " 'generic': {'exp_id': [1, 2, 3], 'seed': [1, 2, 3]},\n",
       " 'exp_id': 1,\n",
       " 'early_stopping': True,\n",
       " 'patience_max': 5,\n",
       " 'dataset': {'train': {'L1000_iid_env_split': {'phase': 'both',\n",
       "    'batch_size': 32,\n",
       "    'radius': 4,\n",
       "    'nBits': 1024,\n",
       "    'train_val_test_prop': (0.7, 0.2, 0.1)}},\n",
       "  'valid': {'L1000_iid_env_split': {'phase': 'both',\n",
       "    'batch_size': 32,\n",
       "    'radius': 4,\n",
       "    'nBits': 1024,\n",
       "    'train_val_test_prop': (0.7, 0.2, 0.1)}}},\n",
       " 'model': {'env_prior_VAE': {'enc_layers': [978, 500, 300],\n",
       "   'dec_layers': [300, 500, 978],\n",
       "   'aux_layers': [1180, 500, 300],\n",
       "   'beta': 1}},\n",
       " 'experiment_name': 'l1000_env_prior_VAE'}"
      ]
     },
     "execution_count": 23,
     "metadata": {},
     "output_type": "execute_result"
    }
   ],
   "source": [
    "results['config']"
   ]
  },
  {
   "cell_type": "code",
   "execution_count": 24,
   "metadata": {},
   "outputs": [
    {
     "data": {
      "text/plain": [
       "{'train': 88980, 'valid': 25516}"
      ]
     },
     "execution_count": 24,
     "metadata": {},
     "output_type": "execute_result"
    }
   ],
   "source": [
    "results['n_envs_in_split']"
   ]
  },
  {
   "cell_type": "code",
   "execution_count": 25,
   "metadata": {},
   "outputs": [
    {
     "data": {
      "text/plain": [
       "{'train': 231907, 'valid': 66191}"
      ]
     },
     "execution_count": 25,
     "metadata": {},
     "output_type": "execute_result"
    }
   ],
   "source": [
    "results['n_samples_in_split']"
   ]
  },
  {
   "cell_type": "markdown",
   "metadata": {},
   "source": [
    "## Reconstruction loss"
   ]
  },
  {
   "cell_type": "code",
   "execution_count": 26,
   "metadata": {},
   "outputs": [],
   "source": [
    "all_train_loss, all_valid_loss = load_all_losses(name='recon_loss')"
   ]
  },
  {
   "cell_type": "code",
   "execution_count": 27,
   "metadata": {},
   "outputs": [
    {
     "data": {
      "image/png": "[encoded data removed]",
      "text/plain": [
       "<Figure size 432x288 with 1 Axes>"
      ]
     },
     "metadata": {
      "needs_background": "light"
     },
     "output_type": "display_data"
    },
    {
     "data": {
      "image/png": "[encoded data removed]",
      "text/plain": [
       "<Figure size 432x288 with 1 Axes>"
      ]
     },
     "metadata": {
      "needs_background": "light"
     },
     "output_type": "display_data"
    }
   ],
   "source": [
    "plt.plot(all_train_loss, label=\"train\")\n",
    "plt.plot(all_valid_loss, label=\"valid\")\n",
    "plt.title(\"reconstruction loss\")\n",
    "plt.legend()\n",
    "plt.show()\n",
    "\n",
    "plt.yscale(\"log\")\n",
    "plt.plot(all_train_loss, label=\"train\")\n",
    "plt.plot(all_valid_loss, label=\"valid\")\n",
    "plt.title(\"reconstruction loss log scale\")\n",
    "plt.legend()\n",
    "plt.show()"
   ]
  },
  {
   "cell_type": "markdown",
   "metadata": {},
   "source": [
    "## KL divergence loss"
   ]
  },
  {
   "cell_type": "code",
   "execution_count": 29,
   "metadata": {},
   "outputs": [],
   "source": [
    "if 'kl_div' in results['losses']['train'][0][0].keys():\n",
    "    all_train_loss, all_valid_loss = load_all_losses(name='kl_div')"
   ]
  },
  {
   "cell_type": "code",
   "execution_count": 30,
   "metadata": {},
   "outputs": [
    {
     "data": {
      "image/png": "[encoded data removed]",
      "text/plain": [
       "<Figure size 432x288 with 1 Axes>"
      ]
     },
     "metadata": {
      "needs_background": "light"
     },
     "output_type": "display_data"
    },
    {
     "data": {
      "image/png": "[encoded data removed]",
      "text/plain": [
       "<Figure size 432x288 with 1 Axes>"
      ]
     },
     "metadata": {
      "needs_background": "light"
     },
     "output_type": "display_data"
    }
   ],
   "source": [
    "if 'kl_div' in results['losses']['train'][0][0].keys():\n",
    "    plt.plot(all_train_loss, label=\"train\")\n",
    "    plt.plot(all_valid_loss, label=\"valid\")\n",
    "    if 'beta' in results['config']['model'][model_name].keys():\n",
    "        plt.title(\"beta * KL diveregence loss with beta=\" + str(results['config']['model'][model_name]['beta']))\n",
    "    else:\n",
    "        plt.title(\"KL diveregence loss\")\n",
    "    plt.legend()\n",
    "    plt.show()\n",
    "    \n",
    "if 'kl_div' in results['losses']['train'][0][0].keys():\n",
    "    plt.yscale(\"log\")\n",
    "    plt.plot(all_train_loss, label=\"train\")\n",
    "    plt.plot(all_valid_loss, label=\"valid\")\n",
    "    if 'beta' in results['config']['model'][model_name].keys():\n",
    "        plt.title(\"beta * KL diveregence loss with beta=\" + str(results['config']['model'][model_name]['beta']))\n",
    "    else:\n",
    "        plt.title(\"KL diveregence loss\")\n",
    "    plt.legend()\n",
    "    plt.show()"
   ]
  },
  {
   "cell_type": "markdown",
   "metadata": {},
   "source": [
    "## Activation statistics"
   ]
  },
  {
   "cell_type": "code",
   "execution_count": 31,
   "metadata": {},
   "outputs": [
    {
     "name": "stdout",
     "output_type": "stream",
     "text": [
      "pytorch/random seed: 1\n"
     ]
    },
    {
     "name": "stderr",
     "output_type": "stream",
     "text": [
      "RDKit WARNING: [20:46:45] Enabling RDKit 2019.09.3 jupyter extensions\n"
     ]
    },
    {
     "name": "stdout",
     "output_type": "stream",
     "text": [
      "Loading data of phase1\n",
      "Loading data of phase2\n",
      "valid split of size 66191 with number of environments 25516\n",
      "Dataset already instanciated, loading it\n",
      "train split of size 231907 with number of environments 88980\n"
     ]
    }
   ],
   "source": [
    "set_seed(results['seed'])\n",
    "# dataloader\n",
    "valid_loader = configuration.setup_dataloader(results['config'], 'valid')\n",
    "train_loader = configuration.setup_dataloader(results['config'], 'train')"
   ]
  },
  {
   "cell_type": "code",
   "execution_count": 32,
   "metadata": {},
   "outputs": [],
   "source": [
    "# print(\"training envs\", np.unique(train_loader.dataset.envs, axis=0))\n",
    "# print(\"valid_envs\", np.unique(valid_loader.dataset.envs))"
   ]
  },
  {
   "cell_type": "code",
   "execution_count": 33,
   "metadata": {},
   "outputs": [
    {
     "data": {
      "text/plain": [
       "<All keys matched successfully>"
      ]
     },
     "execution_count": 33,
     "metadata": {},
     "output_type": "execute_result"
    }
   ],
   "source": [
    "model = configuration.setup_model(results['config'])\n",
    "model.load_state_dict(torch.load(os.path.join(result_dir, \"last_model_\" + str(exp_id) + \".pth.tar\")))"
   ]
  },
  {
   "cell_type": "code",
   "execution_count": 22,
   "metadata": {
    "scrolled": false
   },
   "outputs": [
    {
     "data": {
      "image/png": "[encoded data removed]",
      "text/plain": [
       "<Figure size 432x288 with 1 Axes>"
      ]
     },
     "metadata": {
      "needs_background": "light"
     },
     "output_type": "display_data"
    },
    {
     "data": {
      "image/png": "[encoded data removed]",
      "text/plain": [
       "<Figure size 432x288 with 1 Axes>"
      ]
     },
     "metadata": {
      "needs_background": "light"
     },
     "output_type": "display_data"
    },
    {
     "data": {
      "image/png": "[encoded data removed]",
      "text/plain": [
       "<Figure size 432x288 with 1 Axes>"
      ]
     },
     "metadata": {
      "needs_background": "light"
     },
     "output_type": "display_data"
    },
    {
     "data": {
      "image/png": "[encoded data removed]",
      "text/plain": [
       "<Figure size 432x288 with 1 Axes>"
      ]
     },
     "metadata": {
      "needs_background": "light"
     },
     "output_type": "display_data"
    },
    {
     "data": {
      "image/png": "[encoded data removed]",
      "text/plain": [
       "<Figure size 432x288 with 1 Axes>"
      ]
     },
     "metadata": {
      "needs_background": "light"
     },
     "output_type": "display_data"
    }
   ],
   "source": [
    "with torch.no_grad():\n",
    "    for batch_idx, data in enumerate(valid_loader):\n",
    "\n",
    "        x, fingerprint, compound, line = data\n",
    "\n",
    "        # Expected to return a dictionary of outputs.\n",
    "        outputs = model.forward(x, fingerprint, compound, line)\n",
    "        for key in outputs.keys():\n",
    "            plt.hist(outputs[key].numpy().reshape(-1), bins=100)\n",
    "            plt.title(key)\n",
    "            plt.show()\n",
    "        break"
   ]
  },
  {
   "cell_type": "code",
   "execution_count": 23,
   "metadata": {},
   "outputs": [
    {
     "name": "stdout",
     "output_type": "stream",
     "text": [
      "torch.Size([64, 978])\n"
     ]
    },
    {
     "data": {
      "image/png": "[encoded data removed]",
      "text/plain": [
       "<Figure size 432x288 with 1 Axes>"
      ]
     },
     "metadata": {
      "needs_background": "light"
     },
     "output_type": "display_data"
    }
   ],
   "source": [
    "x_minus_x_prime = outputs['x'] - outputs['x_prime']\n",
    "print(x_minus_x_prime.shape)\n",
    "plt.hist(x_minus_x_prime.numpy().reshape(-1), bins=100)\n",
    "plt.title('x - x_prime')\n",
    "plt.show()"
   ]
  },
  {
   "cell_type": "markdown",
   "metadata": {},
   "source": [
    "## Weights"
   ]
  },
  {
   "cell_type": "code",
   "execution_count": 31,
   "metadata": {},
   "outputs": [
    {
     "data": {
      "text/plain": [
       "VariationalAutoEncoder(\n",
       "  (encoder): LinearLayers(\n",
       "    (dropout): Dropout(p=0, inplace=False)\n",
       "    (activation): ReLU()\n",
       "    (model): Sequential(\n",
       "      (0): Linear(in_features=10, out_features=5, bias=True)\n",
       "      (1): ReLU()\n",
       "    )\n",
       "  )\n",
       "  (mu): LinearLayers(\n",
       "    (dropout): Dropout(p=0, inplace=False)\n",
       "    (activation): ReLU()\n",
       "    (model): Sequential(\n",
       "      (0): Linear(in_features=5, out_features=2, bias=True)\n",
       "    )\n",
       "  )\n",
       "  (logvar): LinearLayers(\n",
       "    (dropout): Dropout(p=0, inplace=False)\n",
       "    (activation): ReLU()\n",
       "    (model): Sequential(\n",
       "      (0): Linear(in_features=5, out_features=2, bias=True)\n",
       "    )\n",
       "  )\n",
       "  (decoder): LinearLayers(\n",
       "    (dropout): Dropout(p=0, inplace=False)\n",
       "    (activation): ReLU()\n",
       "    (model): Sequential(\n",
       "      (0): Linear(in_features=2, out_features=10, bias=True)\n",
       "    )\n",
       "  )\n",
       "  (criterion): MSELoss()\n",
       ")"
      ]
     },
     "execution_count": 31,
     "metadata": {},
     "output_type": "execute_result"
    }
   ],
   "source": [
    "model"
   ]
  },
  {
   "cell_type": "code",
   "execution_count": 32,
   "metadata": {},
   "outputs": [
    {
     "data": {
      "text/plain": [
       "(10, 2)"
      ]
     },
     "execution_count": 32,
     "metadata": {},
     "output_type": "execute_result"
    }
   ],
   "source": [
    "model.decoder.model[0].weight.detach().numpy().shape"
   ]
  },
  {
   "cell_type": "code",
   "execution_count": 33,
   "metadata": {},
   "outputs": [
    {
     "data": {
      "image/png": "[encoded data removed]",
      "text/plain": [
       "<Figure size 432x288 with 1 Axes>"
      ]
     },
     "metadata": {
      "needs_background": "light"
     },
     "output_type": "display_data"
    }
   ],
   "source": [
    "plt.hist(model.decoder.model[0].weight.detach().numpy()[:, :15].reshape(-1), bins=100)\n",
    "plt.title(\"Distribution of weights\")\n",
    "plt.show()"
   ]
  },
  {
   "cell_type": "markdown",
   "metadata": {},
   "source": [
    "Build the ground truth matrix"
   ]
  },
  {
   "cell_type": "code",
   "execution_count": 34,
   "metadata": {},
   "outputs": [],
   "source": [
    "ground_truth_weight = np.zeros((n_observations, n_hidden))\n",
    "for edge in results['data_graph'].graph.in_edges.data(nbunch=results['data_graph'].get_observation_nodes(), \n",
    "                                                      data='weight'):\n",
    "    ground_truth_weight[edge[1]-n_hidden, edge[0]] = edge[2]\n"
   ]
  },
  {
   "cell_type": "code",
   "execution_count": 35,
   "metadata": {},
   "outputs": [
    {
     "data": {
      "image/png": "[encoded data removed]",
      "text/plain": [
       "<Figure size 288x1152 with 2 Axes>"
      ]
     },
     "metadata": {
      "needs_background": "light"
     },
     "output_type": "display_data"
    }
   ],
   "source": [
    "matrix_of_differences = ground_truth_weight - model.decoder.model[0].weight.detach().numpy()\n",
    "plt.matshow(matrix_of_differences, cmap=\"PiYG\")\n",
    "plt.title(\"(GT weight) - (model weight)\")\n",
    "# plt.clim(vmin=-1, vmax=1)\n",
    "plt.colorbar()\n",
    "plt.show()"
   ]
  },
  {
   "cell_type": "code",
   "execution_count": 36,
   "metadata": {},
   "outputs": [
    {
     "data": {
      "image/png": "[encoded data removed]",
      "text/plain": [
       "<Figure size 288x1152 with 2 Axes>"
      ]
     },
     "metadata": {
      "needs_background": "light"
     },
     "output_type": "display_data"
    }
   ],
   "source": [
    "plt.matshow(model.decoder.model[0].weight.detach().numpy(), cmap=\"PiYG\")\n",
    "plt.title(\"model weight\")\n",
    "plt.clim(vmin=-1, vmax=1)\n",
    "plt.colorbar()\n",
    "plt.show()"
   ]
  },
  {
   "cell_type": "code",
   "execution_count": 37,
   "metadata": {},
   "outputs": [
    {
     "data": {
      "image/png": "[encoded data removed]",
      "text/plain": [
       "<Figure size 288x1152 with 2 Axes>"
      ]
     },
     "metadata": {
      "needs_background": "light"
     },
     "output_type": "display_data"
    }
   ],
   "source": [
    "plt.matshow(ground_truth_weight, cmap=\"PiYG\")\n",
    "plt.title(\"ground truth weight\")\n",
    "# plt.clim(vmin=-1, vmax=1)\n",
    "plt.colorbar()\n",
    "plt.show()"
   ]
  },
  {
   "cell_type": "code",
   "execution_count": 38,
   "metadata": {},
   "outputs": [],
   "source": [
    "theta = 2"
   ]
  },
  {
   "cell_type": "code",
   "execution_count": 39,
   "metadata": {},
   "outputs": [],
   "source": [
    "rot = np.array([[np.cos(theta), -np.sin(theta)], [np.sin(theta), np.cos(theta)]])"
   ]
  },
  {
   "cell_type": "code",
   "execution_count": 40,
   "metadata": {},
   "outputs": [],
   "source": [
    "def cosine_dist(A, B):\n",
    "    \"\"\"\n",
    "    Compute the sum of cosine distances between the rows of A and B\n",
    "    \"\"\"\n",
    "    dist = 0\n",
    "    for i in range(len(ground_truth_weight)):\n",
    "        dist += cosine(A[i], B[i])\n",
    "    return dist"
   ]
  },
  {
   "cell_type": "code",
   "execution_count": 41,
   "metadata": {},
   "outputs": [
    {
     "data": {
      "image/png": "[encoded data removed]",
      "text/plain": [
       "<Figure size 432x288 with 1 Axes>"
      ]
     },
     "metadata": {
      "needs_background": "light"
     },
     "output_type": "display_data"
    }
   ],
   "source": [
    "dist_to_ground_truth = []\n",
    "for theta in np.arange(0, 2*np.pi, 0.01):\n",
    "    rot = np.array([[np.cos(theta), -np.sin(theta)], [np.sin(theta), np.cos(theta)]])\n",
    "    rotated_weights = model.decoder.model[0].weight.detach().numpy().dot(rot)\n",
    "    dist_to_ground_truth.append(cosine_dist(rotated_weights, ground_truth_weight))\n",
    "\n",
    "plt.plot(dist_to_ground_truth)\n",
    "plt.show()"
   ]
  },
  {
   "cell_type": "markdown",
   "metadata": {},
   "source": [
    "## Ground Truth Autoencoder\n",
    "Comparing real latent variables with infered ones"
   ]
  },
  {
   "cell_type": "code",
   "execution_count": 31,
   "metadata": {},
   "outputs": [],
   "source": [
    "u, s, vh = svd(ground_truth_weight)"
   ]
  },
  {
   "cell_type": "code",
   "execution_count": 32,
   "metadata": {},
   "outputs": [
    {
     "data": {
      "text/plain": [
       "((10, 10), (2,), (2, 2))"
      ]
     },
     "execution_count": 32,
     "metadata": {},
     "output_type": "execute_result"
    }
   ],
   "source": [
    "u.shape, s.shape, vh.shape"
   ]
  },
  {
   "cell_type": "code",
   "execution_count": 33,
   "metadata": {},
   "outputs": [
    {
     "data": {
      "text/plain": [
       "array([[ 1.,  0.],\n",
       "       [ 1.,  0.],\n",
       "       [ 0., -1.],\n",
       "       [ 1.,  0.],\n",
       "       [ 0.,  1.],\n",
       "       [ 0.,  1.],\n",
       "       [ 0., -1.],\n",
       "       [ 0., -1.],\n",
       "       [ 0., -1.],\n",
       "       [ 1.,  0.]])"
      ]
     },
     "execution_count": 33,
     "metadata": {},
     "output_type": "execute_result"
    }
   ],
   "source": [
    "u[:, :len(s)].dot(np.diag(s)).dot(vh)"
   ]
  },
  {
   "cell_type": "code",
   "execution_count": 34,
   "metadata": {},
   "outputs": [
    {
     "data": {
      "text/plain": [
       "array([[ 1.,  0.],\n",
       "       [ 1.,  0.],\n",
       "       [ 0., -1.],\n",
       "       [ 1.,  0.],\n",
       "       [ 0.,  1.],\n",
       "       [ 0.,  1.],\n",
       "       [ 0., -1.],\n",
       "       [ 0., -1.],\n",
       "       [ 0., -1.],\n",
       "       [ 1.,  0.]])"
      ]
     },
     "execution_count": 34,
     "metadata": {},
     "output_type": "execute_result"
    }
   ],
   "source": [
    "ground_truth_weight"
   ]
  },
  {
   "cell_type": "code",
   "execution_count": 35,
   "metadata": {},
   "outputs": [
    {
     "data": {
      "text/plain": [
       "array([[-0., -1.],\n",
       "       [-1., -0.]])"
      ]
     },
     "execution_count": 35,
     "metadata": {},
     "output_type": "execute_result"
    }
   ],
   "source": [
    "vh.T"
   ]
  },
  {
   "cell_type": "code",
   "execution_count": 36,
   "metadata": {},
   "outputs": [],
   "source": [
    "G_inv = vh.T.dot(np.diag(1/s)).dot(u.T[:len(s), :])"
   ]
  },
  {
   "cell_type": "code",
   "execution_count": 37,
   "metadata": {},
   "outputs": [
    {
     "data": {
      "text/plain": [
       "array([[ 1.,  0.],\n",
       "       [ 1.,  0.],\n",
       "       [ 0., -1.],\n",
       "       [ 1.,  0.],\n",
       "       [ 0.,  1.],\n",
       "       [ 0.,  1.],\n",
       "       [ 0., -1.],\n",
       "       [ 0., -1.],\n",
       "       [ 0., -1.],\n",
       "       [ 1.,  0.]])"
      ]
     },
     "execution_count": 37,
     "metadata": {},
     "output_type": "execute_result"
    }
   ],
   "source": [
    "ground_truth_weight"
   ]
  },
  {
   "cell_type": "code",
   "execution_count": 38,
   "metadata": {},
   "outputs": [
    {
     "data": {
      "text/plain": [
       "array([[ 0.25      ,  0.25      ,  0.        ,  0.25      ,  0.        ,\n",
       "         0.        ,  0.        ,  0.        ,  0.        ,  0.25      ],\n",
       "       [ 0.        ,  0.        , -0.16666667,  0.        ,  0.16666667,\n",
       "         0.16666667, -0.16666667, -0.16666667, -0.16666667,  0.        ]])"
      ]
     },
     "execution_count": 38,
     "metadata": {},
     "output_type": "execute_result"
    }
   ],
   "source": [
    "G_inv"
   ]
  },
  {
   "cell_type": "code",
   "execution_count": 39,
   "metadata": {},
   "outputs": [
    {
     "data": {
      "image/png": "[encoded data removed]",
      "text/plain": [
       "<Figure size 288x288 with 2 Axes>"
      ]
     },
     "metadata": {
      "needs_background": "light"
     },
     "output_type": "display_data"
    }
   ],
   "source": [
    "plt.matshow(G_inv.dot(ground_truth_weight))\n",
    "plt.colorbar()\n",
    "plt.show()"
   ]
  },
  {
   "cell_type": "code",
   "execution_count": 40,
   "metadata": {},
   "outputs": [
    {
     "data": {
      "image/png": "[encoded data removed]",
      "text/plain": [
       "<Figure size 432x288 with 1 Axes>"
      ]
     },
     "metadata": {
      "needs_background": "light"
     },
     "output_type": "display_data"
    }
   ],
   "source": [
    "dist_to_ground_truth = []\n",
    "for theta in np.arange(0, 2*np.pi, 0.01):\n",
    "    rot = np.array([[np.cos(theta), -np.sin(theta)], [np.sin(theta), np.cos(theta)]])\n",
    "    with torch.no_grad():\n",
    "        for batch_idx, data in enumerate(valid_loader):\n",
    "\n",
    "            x, fingerprint, compound, line = data\n",
    "\n",
    "            # Expected to return a dictionary of outputs.\n",
    "            outputs = model.forward(x, fingerprint, compound, line)\n",
    "\n",
    "            real_z = x.numpy().dot(G_inv.T)\n",
    "            dist_to_ground_truth.append(cosine_dist(outputs['z'].numpy().dot(rot), real_z))\n",
    "            break\n",
    "            \n",
    "plt.plot(dist_to_ground_truth)\n",
    "plt.show()"
   ]
  },
  {
   "cell_type": "code",
   "execution_count": null,
   "metadata": {},
   "outputs": [],
   "source": []
  },
  {
   "cell_type": "code",
   "execution_count": null,
   "metadata": {},
   "outputs": [],
   "source": []
  }
 ],
 "metadata": {
  "kernelspec": {
   "display_name": "Python 3",
   "language": "python",
   "name": "python3"
  },
  "language_info": {
   "codemirror_mode": {
    "name": "ipython",
    "version": 3
   },
   "file_extension": ".py",
   "mimetype": "text/x-python",
   "name": "python",
   "nbconvert_exporter": "python",
   "pygments_lexer": "ipython3",
   "version": "3.7.4"
  }
 },
 "nbformat": 4,
 "nbformat_minor": 2
}
